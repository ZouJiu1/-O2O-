{
 "cells": [
  {
   "cell_type": "code",
   "execution_count": null,
   "metadata": {
    "collapsed": true
   },
   "outputs": [],
   "source": [
    "import numpy as np\n",
    "import pandas as pd\n",
    "import sys\n",
    "import seaborn as sns\n",
    "from time import sleep\n",
    "import matplotlib.pyplot as plt\n",
    "# on_train=pd.read_csv(r'D:\\Data\\TCForNewComer\\ccf_online_stage1_train\\ccf_online_stage1_train.csv')\n",
    "off_train=pd.read_csv(r'D:\\Data\\TCForNewComer\\ccf_offline_stage1_train\\ccf_offline_stage1_train.csv')\n",
    "test=pd.read_csv(r'D:\\Data\\TCForNewComer\\ccf_offline_stage1_test_revised.csv')\n",
    "\n",
    "off_train=off_train.sort_values(by=['User_id'])\n",
    "off_train.index=np.arange(0,len(off_train),1)\n",
    "test['Date_received']=test['Date_received'].astype(np.int64)\n",
    "test['Date_received']=test['Date_received'].apply(lambda x: str(x))\n",
    "test['discount_rate']=test['Discount_rate'].copy()\n",
    "test.index=np.arange(0,len(test),1)"
   ]
  },
  {
   "cell_type": "markdown",
   "metadata": {},
   "source": [
    "### 生成6月份的测试集\n",
    "- 以及生成训练集和普通购买数据，增加一列月份"
   ]
  },
  {
   "cell_type": "code",
   "execution_count": null,
   "metadata": {
    "collapsed": true
   },
   "outputs": [],
   "source": [
    "#生成训练集和普通购买数据，增加一列月份\n",
    "ordinary=off_train.loc[(off_train['Coupon_id']=='null')&(off_train['Date']!='null')]\n",
    "off_train=off_train.loc[(off_train['Coupon_id']!='null')]\n",
    "ordinary.index=np.arange(0,len(ordinary),1)\n",
    "off_train.index=np.arange(0,len(off_train),1)\n",
    "ordinary['month']=ordinary['Date'].apply(lambda x: int(str(x)[5])).copy()\n",
    "off_train['month']=off_train['Date_received'].apply(lambda x: int(str(x)[5])).copy()\n",
    "\n",
    "ftest=off_train[off_train['month']==6].copy()\n",
    "ftest.drop(['month'],axis=1,inplace=True)\n",
    "ftest['discount_rate']=ftest['Discount_rate']\n",
    "ftest.index=np.arange(0,len(ftest),1)\n",
    "\n",
    "\n",
    "ftest['Date_received']=ftest['Date_received'].apply(lambda x: str(x))\n",
    "\n",
    "p_train=ftest[ftest['Date']!='null'].copy()#正样本\n",
    "n_train=ftest[off_train['Date']=='null'].copy()#负样本\n",
    "p_train.index=np.arange(0,len(p_train),1)\n",
    "n_train.index=np.arange(0,len(n_train),1)\n",
    "#转换为时间格式\n",
    "p_train['Date_received_copy']=p_train['Date_received'].copy()\n",
    "p_train['Date_received_copy']=pd.to_datetime(p_train['Date_received_copy'])\n",
    "p_train['Date']=pd.to_datetime(p_train['Date'])\n",
    "\n",
    "p_train['date']=(p_train['Date']-p_train['Date_received_copy']).astype('timedelta64[D]')\n",
    "p_train.loc[p_train[p_train['date']<=15].index,'date']=1\n",
    "p_train.loc[p_train[p_train['date']>15].index,'date']=0\n",
    "p_train['Date']=p_train['date'].copy()\n",
    "p_train.drop(['date','Date_received_copy'],axis=1,inplace=True)\n",
    "p_train['Date']=p_train['Date'].astype(np.int64)\n",
    "n_train['Date']=0\n",
    "ftest=pd.concat([p_train,n_train],axis=0)\n",
    "ftest=ftest.sort_values(by=['User_id'])\n",
    "ftest.index=np.arange(0,len(ftest),1)\n",
    "\n",
    "ftesty=pd.DataFrame()\n",
    "ftesty['Date']=ftest['Date']\n",
    "ftesty['Coupon_id']=ftest['Coupon_id']\n",
    "ftesty.to_csv(r'D:\\Data\\TCForNewComer\\new_script1\\ftesty.csv',index=False)\n",
    "ftest.to_csv(r'D:\\Data\\TCForNewComer\\new_script1\\train_ftest.csv',index=False)"
   ]
  },
  {
   "cell_type": "markdown",
   "metadata": {},
   "source": [
    "### 对正负样本进行01标记，转化日期为多少号"
   ]
  },
  {
   "cell_type": "code",
   "execution_count": null,
   "metadata": {
    "collapsed": true
   },
   "outputs": [],
   "source": [
    "#对正负样本进行赋值\n",
    "combine=[off_train,test,ftest]\n",
    "for data in combine:\n",
    "    data['Date_received']=data['Date_received'].apply(lambda x: str(x))\n",
    "\n",
    "p_train=off_train[off_train['Date']!='null'].copy()#正样本\n",
    "n_train=off_train[off_train['Date']=='null'].copy()#负样本\n",
    "p_train.index=np.arange(0,len(p_train),1)\n",
    "n_train.index=np.arange(0,len(n_train),1)\n",
    "#转换为时间格式\n",
    "p_train['Date_received_copy']=p_train['Date_received'].copy()\n",
    "p_train['Date_received_copy']=pd.to_datetime(p_train['Date_received_copy'])\n",
    "p_train['Date']=pd.to_datetime(p_train['Date'])\n",
    "\n",
    "p_train['date']=(p_train['Date']-p_train['Date_received_copy']).astype('timedelta64[D]')\n",
    "p_train.loc[p_train[p_train['date']<=15].index,'date']=1\n",
    "p_train.loc[p_train[p_train['date']>15].index,'date']=0\n",
    "p_train['Date']=p_train['date'].copy()\n",
    "p_train.drop(['date','Date_received_copy'],axis=1,inplace=True)\n",
    "p_train['Date']=p_train['Date'].astype(np.int64)\n",
    "#转换为星期几x.weekday()+1\n",
    "test['Date_received']=(test['Date_received'].apply(lambda x: int(x[6:]))).copy()\n",
    "ftest['Date_received']=(ftest['Date_received'].apply(lambda x: int(x[6:]))).copy()\n",
    "#正样本为1，负样本为0\n",
    "n_train['Date']=0\n",
    "off_train=pd.concat([p_train,n_train],axis=0)\n",
    "off_train['Date_received']=(off_train['Date_received'].apply(lambda x: int(x[6:]))).copy()\n",
    "off_train['Date_received']=off_train['Date_received'].astype(np.int64)\n",
    "\n",
    "off_train['discount_rate']=off_train['Discount_rate'].copy()#增加一列可以看出实际商品价格\n",
    "#将日期转化为多少号\n",
    "combine=[off_train,test,ftest]\n",
    "def Discount_rate(x):#转化函数\n",
    "    if x.startswith('0'):\n",
    "        return float(x)\n",
    "    else:\n",
    "        return float(x.split(':')[0])\n",
    "for data in combine:\n",
    "    data.index=np.arange(0,len(data),1)\n",
    "    data['discount_rate']=data['discount_rate'].apply(Discount_rate)\n",
    "    \n",
    "off_train=off_train.sort_values(by=['User_id'])\n",
    "off_train.index=np.arange(0,len(off_train),1)"
   ]
  },
  {
   "cell_type": "markdown",
   "metadata": {},
   "source": [
    "### 增加每个月单件商品普通购买次数和领取相同优惠券次数"
   ]
  },
  {
   "cell_type": "code",
   "execution_count": null,
   "metadata": {
    "collapsed": true
   },
   "outputs": [],
   "source": [
    "off_train['ord_buy']=0\n",
    "off_train['same_merc']=0\n",
    "test['ord_buy']=0\n",
    "test['same_merc']=0\n",
    "i=0\n",
    "j=10\n",
    "length=len(set(off_train['User_id'].values))\n",
    "for uid in set(off_train['User_id'].values):\n",
    "    rate=int(i*100/length)#看进度\n",
    "    if (rate in list(np.arange(10.,120.,10.)))&(rate==j):\n",
    "        print('.'*int(rate/10),rate,'%',end=';')\n",
    "        j=j+10\n",
    "        \n",
    "    tt=off_train[off_train['User_id']==uid]\n",
    "    tto=ordinary[ordinary['User_id']==uid]\n",
    "    if len(tto)!=0:\n",
    "        for mid in set(tt['Merchant_id'].values):\n",
    "            tat=tt[tt['Merchant_id']==mid]\n",
    "            tato=tto[tto['Merchant_id']==mid]\n",
    "            if len(tato)!=0:\n",
    "                for m in set(tat['month'].values):\n",
    "                    tatm=tat[tat['month']==m]\n",
    "                    tatom=tato[tato['month']==m]\n",
    "                    off_train.loc[tatm.index,'ord_buy']=len(tatom)\n",
    "    for cid in set(tt['Coupon_id'].values):\n",
    "        tct=tt[tt['Coupon_id']==cid]\n",
    "        for month in set(tct['month'].values):\n",
    "            tctm=tct[tct['month']==month]\n",
    "            off_train.loc[tctm.index,'same_merc']=len(tctm)\n",
    "    i=i+1\n",
    "    \n",
    "for uid in set(test['User_id'].values):\n",
    "    if uid in off_train['User_id'].values:\n",
    "        tt=test[test['User_id']==uid]\n",
    "        for mid in set(tt['Merchant_id'].values):\n",
    "            if mid in off_train[off_train['User_id']==uid]['Merchant_id'].values:\n",
    "                test.loc[tt[tt['Merchant_id']==mid].index,'ord_buy']=off_train[(off_train['User_id']==uid)&(off_train['Merchant_id']==mid)]['ord_buy'].max()\n",
    "    for cid in set(test[test['User_id']==uid]['Coupon_id'].values):\n",
    "        tct=test[(test['Coupon_id']==cid)&(test['User_id']==uid)]\n",
    "        test.loc[tct.index,'same_merc']=len(tct)\n",
    "        \n",
    "for uid in set(ftest['User_id'].values):\n",
    "    if uid in off_train['User_id'].values:\n",
    "        tt=ftest[ftest['User_id']==uid]\n",
    "        for mid in set(tt['Merchant_id'].values):\n",
    "            if mid in off_train[off_train['User_id']==uid]['Merchant_id'].values:\n",
    "                ftest.loc[tt[tt['Merchant_id']==mid].index,'ord_buy']=off_train[(off_train['User_id']==uid)&(off_train['Merchant_id']==mid)]['ord_buy'].max()\n",
    "    for cid in set(ftest[ftest['User_id']==uid]['Coupon_id'].values):\n",
    "        tct=ftest[(ftest['Coupon_id']==cid)&(ftest['User_id']==uid)]\n",
    "        ftest.loc[tct.index,'same_merc']=len(tct)\n",
    "\n",
    "# ordinary.drop(['month'],axis=1,inplace=True)\n",
    "# off_train.drop(['month'],axis=1,inplace=True)\n",
    "off_train.to_csv(r'D:\\Data\\TCForNewComer\\new_script1\\off_train.csv',index=False)\n",
    "test.to_csv(r'D:\\Data\\TCForNewComer\\new_script1\\test.csv',index=False)\n",
    "ftest.to_csv(r'D:\\Data\\TCForNewComer\\new_script1\\ftest.csv',index=False)"
   ]
  },
  {
   "cell_type": "markdown",
   "metadata": {},
   "source": [
    "### 预处理填充缺失值和转化优惠率"
   ]
  },
  {
   "cell_type": "code",
   "execution_count": 2,
   "metadata": {
    "scrolled": true
   },
   "outputs": [
    {
     "name": "stderr",
     "output_type": "stream",
     "text": [
      "C:\\ProgramData\\Anaconda3\\lib\\site-packages\\ipykernel_launcher.py:11: SettingWithCopyWarning: \n",
      "A value is trying to be set on a copy of a slice from a DataFrame.\n",
      "Try using .loc[row_indexer,col_indexer] = value instead\n",
      "\n",
      "See the caveats in the documentation: http://pandas.pydata.org/pandas-docs/stable/indexing.html#indexing-view-versus-copy\n",
      "  # This is added back by InteractiveShellApp.init_path()\n",
      "C:\\ProgramData\\Anaconda3\\lib\\site-packages\\pandas\\core\\indexing.py:517: SettingWithCopyWarning: \n",
      "A value is trying to be set on a copy of a slice from a DataFrame.\n",
      "Try using .loc[row_indexer,col_indexer] = value instead\n",
      "\n",
      "See the caveats in the documentation: http://pandas.pydata.org/pandas-docs/stable/indexing.html#indexing-view-versus-copy\n",
      "  self.obj[item] = s\n"
     ]
    },
    {
     "name": "stdout",
     "output_type": "stream",
     "text": [
      ". 10 %;.. 20 %;... 30 %;.... 40 %;..... 50 %;...... 60 %;....... 70 %;........ 80 %;......... 90 %;"
     ]
    }
   ],
   "source": [
    "import pandas as pd\n",
    "import numpy as np\n",
    "off_train=pd.read_csv(r'D:\\Data\\TCForNewComer\\new_script1\\off_train.csv')\n",
    "test=pd.read_csv(r'D:\\Data\\TCForNewComer\\new_script1\\test.csv')\n",
    "ftest=pd.read_csv(r'D:\\Data\\TCForNewComer\\new_script1\\ftest.csv')\n",
    "#填充Distance列的空缺值\n",
    "strr=off_train[off_train['Distance']!='null']\n",
    "null=off_train[off_train['Distance']=='null']\n",
    "strr.index=np.arange(0,len(strr),1)\n",
    "null.index=np.arange(0,len(null),1)\n",
    "strr['Distance']=strr['Distance'].apply(lambda x: int(x))\n",
    "# print(strr.info())\n",
    "i=0\n",
    "j=10\n",
    "length=len(set(null['User_id'].values))\n",
    "for uid in set(null['User_id'].values):\n",
    "    rate=int(i*100/length)#看进度\n",
    "    if (rate in list(np.arange(10.,120.,10.)))&(rate==j):\n",
    "        print('.'*int(rate/10),rate,'%',end=';')\n",
    "        j=j+10\n",
    "    \n",
    "    if uid not in strr['User_id'].values:\n",
    "        null.loc[null['User_id']==uid,'Distance']=0\n",
    "    else:\n",
    "        tt=strr[strr['User_id']==uid]\n",
    "        null.loc[null['User_id']==uid,'Distance']=tt['Distance'].median()\n",
    "    i+=1\n",
    "off_train=pd.concat([strr,null],axis=0)\n",
    "off_train.index=np.arange(0,len(off_train),1)\n",
    "\n",
    "for i in ftest[ftest['Distance']=='null'].index:\n",
    "    ftest.loc[i,'Distance']=int(off_train[(off_train['User_id']==ftest.loc[i,'User_id'])&(off_train['Merchant_id']==ftest.loc[i,'Merchant_id'])]['Distance'].max())\n",
    "    \n",
    "#off_train\\test\\ftest\n",
    "for uid in (test[test['Distance']=='null']['User_id'].values):\n",
    "    if uid in off_train['User_id'].values:\n",
    "        test.loc[test[(test['Distance']=='null')&(test['User_id']==uid)].index,\\\n",
    "                 'Distance']=off_train[off_train['User_id']==uid]['Distance'].median()\n",
    "    else:\n",
    "        test.loc[test[(test['Distance']=='null')&(test['User_id']==uid)].index,'Distance']=0\n",
    "\n",
    "combine=[off_train,test,ftest]\n",
    "for data in combine:\n",
    "    data['Distance']=data['Distance'].apply(lambda x: int(x))\n",
    "    \n",
    "    \n",
    "#转换优惠率\n",
    "combine=[off_train,test,ftest]\n",
    "def Discount_rate(x):#转化函数\n",
    "    if x.startswith('0'):\n",
    "        return float(x)\n",
    "    else:\n",
    "        return float(x.split(':')[0])-float(x.split(':')[1])\n",
    "for data in combine:\n",
    "    data.index=np.arange(0,len(data),1)\n",
    "    data['Discount_rate']=data['Discount_rate'].apply(Discount_rate)\n",
    "    \n",
    "off_train['same_dis']=0\n",
    "i=0\n",
    "j=10\n",
    "length=len(set(off_train['User_id'].values))\n",
    "for uid in set(off_train['User_id'].values):\n",
    "    rate=int(i*100/length)#看进度\n",
    "    if (rate in list(np.arange(10.,120.,10.)))&(rate==j):\n",
    "        print('.'*int(rate/10),rate,'%',end=';')\n",
    "        j=j+10\n",
    "    \n",
    "    tt=off_train[off_train['User_id']==uid]\n",
    "    for m in set(tt['month'].values):\n",
    "        tmt=tt[tt['month']==m]\n",
    "        for dis in set(tmt['Distance'].values):\n",
    "            tmdt=tmt[tmt['Distance']==dis]\n",
    "            off_train.loc[tmdt.index,'same_dis']=len(tmdt)\n",
    "    i+=1\n",
    "\n",
    "off_train.to_csv(r'D:\\Data\\TCForNewComer\\new_script1\\train_off_train.csv',index=False)\n",
    "test.to_csv(r'D:\\Data\\TCForNewComer\\new_script1\\train_test.csv',index=False)\n",
    "ftest.to_csv(r'D:\\Data\\TCForNewComer\\new_script1\\train_ftest.csv',index=False)"
   ]
  },
  {
   "cell_type": "code",
   "execution_count": 4,
   "metadata": {
    "collapsed": true
   },
   "outputs": [],
   "source": [
    "# 增加一列一个月内每个用户到同样距离的地方的次数\n",
    "combine=[ftest,test]\n",
    "for data in combine:\n",
    "    data['same_dis']=0\n",
    "    for uid in set(data['User_id'].values):\n",
    "        tt=data[data['User_id']==uid]\n",
    "        for dis in set(tt['Distance'].values):\n",
    "            tdt=tt[tt['Distance']==dis]\n",
    "            off_train.loc[tdt.index,'same_dis']=len(tdt)\n",
    "test.to_csv(r'D:\\Data\\TCForNewComer\\new_script1\\train_test.csv',index=False)\n",
    "ftest.to_csv(r'D:\\Data\\TCForNewComer\\new_script1\\train_ftest.csv',index=False)"
   ]
  },
  {
   "cell_type": "markdown",
   "metadata": {},
   "source": [
    "### 删除每月领过同一件商品多张优惠券，最终使用一张或多张购买了的，其他没有使用的优惠券"
   ]
  },
  {
   "cell_type": "code",
   "execution_count": 6,
   "metadata": {
    "scrolled": true
   },
   "outputs": [
    {
     "name": "stdout",
     "output_type": "stream",
     "text": [
      "3000:. 10 %;7000:9000:10000:12000:.. 20 %;13000:... 30 %;23000:24000:.... 40 %;26000:27000:31000:32000:..... 50 %;34000:38000:...... 60 %;39000:....... 70 %;48000:49000:50000:........ 80 %;57000:......... 90 %;963330\n"
     ]
    },
    {
     "name": "stderr",
     "output_type": "stream",
     "text": [
      "C:\\ProgramData\\Anaconda3\\lib\\site-packages\\ipykernel_launcher.py:28: SettingWithCopyWarning: \n",
      "A value is trying to be set on a copy of a slice from a DataFrame\n",
      "\n",
      "See the caveats in the documentation: http://pandas.pydata.org/pandas-docs/stable/indexing.html#indexing-view-versus-copy\n"
     ]
    },
    {
     "name": "stdout",
     "output_type": "stream",
     "text": [
      "910706\n"
     ]
    }
   ],
   "source": [
    "import pandas as pd\n",
    "import numpy as np\n",
    "off_train=pd.read_csv(r'D:\\Data\\TCForNewComer\\new_script1\\off_train.csv')\n",
    "i=0\n",
    "j=10\n",
    "length=len(off_train[off_train['Date']==1])\n",
    "for ind in off_train[off_train['Date']==1].index:\n",
    "    rate=int(i*100/length)#看进度\n",
    "    if (rate in list(np.arange(10.,120.,10.)))&(rate==j):\n",
    "        print('.'*int(rate/10),rate,'%',end=';')\n",
    "        j=j+10\n",
    "    \n",
    "    tt=off_train[(off_train['User_id']==off_train.loc[ind,'User_id'])&\\\n",
    "                        (off_train['Merchant_id']==off_train.loc[ind,'Merchant_id'])&\\\n",
    "                        (off_train['Discount_rate']==off_train.loc[ind,'Discount_rate'])&\\\n",
    "                        (off_train['Date']==0)]\n",
    "    if len(tt)==0:\n",
    "        i+=1\n",
    "        continue\n",
    "    else:\n",
    "        off_train.drop(tt.index,axis=0,inplace=True)\n",
    "    if (i%1000==0) and (i>=1000):\n",
    "        print(i,end=':')\n",
    "    i+=1\n",
    "off_train.index=np.arange(0,len(off_train),1)\n",
    "off_train.to_csv(r'D:\\Data\\TCForNewComer\\new_script1\\train_off_train.csv',index=False)\n",
    "\n",
    "posi=off_train[off_train['Date']==1]\n",
    "negt=off_train[off_train['Date']==0]\n",
    "print(len(negt))\n",
    "negt.drop_duplicates(subset=['User_id','Merchant_id','Coupon_id','Discount_rate','Distance','Date','month'],inplace=True)\n",
    "print(len(negt))\n",
    "off_train=pd.concat([posi,negt],axis=0).sort_values(by=['User_id','Merchant_id'])\n",
    "off_train.index=np.arange(0,len(off_train),1)\n",
    "off_train.to_csv(r'D:\\Data\\TCForNewComer\\new_script1\\train_off_train.csv',index=False)"
   ]
  },
  {
   "cell_type": "code",
   "execution_count": null,
   "metadata": {
    "collapsed": true
   },
   "outputs": [],
   "source": [
    "off_train.sort_values(by=['User_id','Merchant_id'])"
   ]
  },
  {
   "cell_type": "code",
   "execution_count": null,
   "metadata": {
    "collapsed": true
   },
   "outputs": [],
   "source": [
    "off_train[off_train['Date']==1]"
   ]
  },
  {
   "cell_type": "code",
   "execution_count": null,
   "metadata": {
    "collapsed": true
   },
   "outputs": [],
   "source": [
    "combine=[off_train,test,ftest]\n",
    "def discount_rate(x):#转化函数\n",
    "    if x.startswith('0'):\n",
    "        return float(x)\n",
    "    else:\n",
    "        return float(x.split(':')[0])\n",
    "for data in combine:\n",
    "    data.index=np.arange(0,len(data),1)\n",
    "    data['discount_rate']=data['discount_rate'].apply(discount_rate)"
   ]
  },
  {
   "cell_type": "code",
   "execution_count": null,
   "metadata": {
    "collapsed": true
   },
   "outputs": [],
   "source": [
    "off_train['Coupon_month_num']=0             #每月领取张数\n",
    "# off_train['Coupon_month_nouse_num']=0       #每月领取没有使用张数\n",
    "# off_train['Coupon_month_use_num']=0         #每月使用张数\n",
    "# off_train['Coupon_month_use_prob']=0        #每月使用概率\n",
    "off_train['month']=off_train['Date_received'].apply(lambda x: int(str(x)[5])).copy()\n",
    "i=0\n",
    "j=10\n",
    "length=len(set(off_train['User_id'].values))\n",
    "for uid in set(off_train['User_id'].values):\n",
    "    rate=int(i*100/length)#看进度\n",
    "    if (rate in list(np.arange(10.,120.,10.)))&(rate==j):\n",
    "        print('.'*int(rate/10),rate,'%',end=';')\n",
    "        j=j+10\n",
    "    \n",
    "    tt=off_train[off_train['User_id']==uid]\n",
    "    for month in set(tt['month'].values):\n",
    "        tat=tt[tt['month']==month]\n",
    "        off_train.loc[tat.index,'Coupon_month_num']=len(tat)\n",
    "    i=i+1\n",
    "#         off_train.loc[tat.index,'Coupon_month_nouse_num']=len(tat[tat['Date']=='null'])\n",
    "#         off_train.loc[tat.index,'Coupon_month_use_num']=len(tat[tat['Date']!='null'])\n",
    "#         off_train.loc[tat.index,'Coupon_month_use_prob']=len(tat[tat['Date']=='null'])\n",
    "Test=[test,ftest]\n",
    "for data in Test:\n",
    "    data['Coupon_month_num']=0\n",
    "    for uid in set(data['User_id'].values):\n",
    "        tt=data[data['User_id']==uid]\n",
    "        data.loc[tt.index,'Coupon_month_num']=len(tt)"
   ]
  },
  {
   "cell_type": "code",
   "execution_count": null,
   "metadata": {
    "collapsed": true
   },
   "outputs": [],
   "source": [
    "#找相同uid或mid的行并输出\n",
    "import pandas as pd\n",
    "import numpy as np\n",
    "off_train=pd.read_csv(r'D:\\Data\\TCForNewComer\\new_script\\train_off_train.csv')\n",
    "test=pd.read_csv(r'D:\\Data\\TCForNewComer\\new_script\\train_test.csv')\n",
    "ftest=pd.read_csv(r'D:\\Data\\TCForNewComer\\new_script\\train_ftest.csv')\n",
    "cols=['User_id','Merchant_id']\n",
    "def set_same(col):\n",
    "    b=set(test[col].values)\n",
    "    c=set(off_train[col].values)\n",
    "    print(col,': ','test ',len(b))\n",
    "    print('off_train ',len(c))\n",
    "    print(len(b&c))\n",
    "    return (b&c)\n",
    "\n",
    "#保留off_train中的和test的User_id或mid一样的行\n",
    "row=[]\n",
    "for col in cols:\n",
    "    i=0\n",
    "    j=10\n",
    "    sett=set_same(col)\n",
    "    length=len(sett)\n",
    "    for inde in (sett):\n",
    "        rate=int(i*100/length)\n",
    "        if (rate in list(np.arange(10.,120.,10.)))&(rate==j):\n",
    "            print('.'*int(rate/10),rate,'%',end=':')\n",
    "            j=j+10\n",
    "        row.extend(list(off_train[off_train[col]==inde].index))\n",
    "        i+=1\n",
    "    \n",
    "row=list(set(row))\n",
    "temp=off_train.loc[row]\n",
    "\n",
    "temp=temp.drop(list(temp[temp['Date']==1].index),axis=0)\n",
    "date=off_train[off_train['Date']==1]\n",
    "off_train_same_umid=pd.concat([temp,date],axis=0)\n",
    "off_train_same_umid=off_train_same_umid.sort_values(by=['User_id'])\n",
    "off_train_same_umid.index=np.arange(0,len(off_train_same_umid),1)\n",
    "off_train_same_umid.to_csv(r'D:\\Data\\TCForNewComer\\new_script\\sameumid\\off_train_same_umid.csv',index=False)"
   ]
  },
  {
   "cell_type": "markdown",
   "metadata": {},
   "source": [
    "### 其中discount_rate代表商品实际的价格"
   ]
  },
  {
   "cell_type": "code",
   "execution_count": null,
   "metadata": {
    "collapsed": true
   },
   "outputs": [],
   "source": [
    "import pandas as pd\n",
    "import numpy as np\n",
    "import time\n",
    "off_train_same_umid=pd.read_csv(r'D:\\Data\\TCForNewComer\\new_script\\sameumid\\off_train_same_umid.csv')\n",
    "test=pd.read_csv(r'D:\\Data\\TCForNewComer\\new_script\\train_test.csv')\n",
    "ftest=pd.read_csv(r'D:\\Data\\TCForNewComer\\new_script\\train_ftest.csv')"
   ]
  },
  {
   "cell_type": "code",
   "execution_count": null,
   "metadata": {
    "collapsed": true
   },
   "outputs": [],
   "source": [
    "off_train_same_umid.head(10)"
   ]
  },
  {
   "cell_type": "code",
   "execution_count": null,
   "metadata": {
    "collapsed": true
   },
   "outputs": [],
   "source": [
    "for i in set(off_train_same_umid['discount_rate'].values):\n",
    "    print(i,len(off_train_same_umid[off_train_same_umid['discount_rate']==i]))"
   ]
  },
  {
   "cell_type": "code",
   "execution_count": null,
   "metadata": {
    "collapsed": true
   },
   "outputs": [],
   "source": [
    "#每月领取的优惠券张数\n",
    "combine=[off_train_same_umid]\n",
    "for data in combine:\n",
    "    i=0\n",
    "    j=10\n",
    "    length=len(set(data['User_id'].values))\n",
    "    \n",
    "    data['Courate_month_l6']=0              #每月领取优惠券大于Discount_rate6的张数\n",
    "    data['Courate_month_m6']=0              #每月领取优惠券小于等于Discount_rate6的张数\n",
    "    data['Coupon_month_getl30']=0            #每月领取优惠券小于等于discount_rate30的张数\n",
    "    data['Coupon_month_getm30']=0           #每月领取优惠券大于discount_rate30的张数\n",
    "    for uid in set(data['User_id'].values):\n",
    "        rate=int(i*100/length)\n",
    "        if (rate in list(np.arange(10.,120.,10.)))&(rate==j):\n",
    "            print('.'*int(rate/10),rate,'%',end=':')\n",
    "            j=j+10\n",
    "            \n",
    "        tt=data[data['User_id']==uid]\n",
    "        for month in np.arange(1,7,1):\n",
    "            tat=tt[tt['month']==month]\n",
    "            if len(tat)==0:\n",
    "                continue\n",
    "            else:\n",
    "                data.loc[tat.index,'Courate_month_l6']=len(tat[tat['Discount_rate']<=6])\n",
    "                data.loc[tat.index,'Courate_month_m6']=len(tat[tat['Discount_rate']>6])\n",
    "                data.loc[tat.index,'Coupon_month_getl30']=len(tat[tat['discount_rate']<=30])\n",
    "                data.loc[tat.index,'Coupon_month_getm30']=len(tat[tat['discount_rate']>30])\n",
    "        i=i+1\n",
    "\n",
    "combine=[test,ftest]\n",
    "for data in combine:\n",
    "    data['Courate_month_l6']=0              #每月领取优惠券大于Discount_rate6的张数\n",
    "    data['Courate_month_m6']=0              #每月领取优惠券小于等于Discount_rate6的张数\n",
    "    data['Coupon_month_getl30']=0            #每月领取优惠券小于等于discount_rate30的张数\n",
    "    data['Coupon_month_getm30']=0           #每月领取优惠券大于discount_rate30的张数\n",
    "    for uid in set(data['User_id'].values):\n",
    "        tt=data[data['User_id']==uid]\n",
    "        data.loc[tt.index,'Courate_month_l6']=len(tt[tt['Discount_rate']<=6])\n",
    "        data.loc[tt.index,'Courate_month_m6']=len(tt[tt['Discount_rate']>6])\n",
    "        data.loc[tt.index,'Coupon_month_getl30']=len(tt[tt['discount_rate']<=30])\n",
    "        data.loc[tt.index,'Coupon_month_getm30']=len(tt[tt['discount_rate']>30])"
   ]
  },
  {
   "cell_type": "code",
   "execution_count": null,
   "metadata": {
    "collapsed": true
   },
   "outputs": [],
   "source": [
    "off_train_same_umid['Coupon_month_num']=0 #该优惠券本月发放的数目\n",
    "off_train_same_umid['Coupre_month_usepro']=0#该优惠券上个月使用的概率\n",
    "i=0\n",
    "j=10\n",
    "length=len(set(off_train_same_umid['Merchant_id'].values))\n",
    "for mid in set(off_train_same_umid['Merchant_id'].values):\n",
    "    rate=int(i*100/length)\n",
    "    if (rate in list(np.arange(10.,120.,10.)))&(rate==j):\n",
    "        print('.'*int(rate/10),rate,'%',end=':')\n",
    "        j=j+10\n",
    "            \n",
    "    use=mid\n",
    "    for month in np.arange(1,7,1):\n",
    "        tt=off_train_same_umid[(off_train_same_umid['Merchant_id']==use)&(off_train_same_umid['month']==month)]\n",
    "        if len(tt)!=0:\n",
    "            off_train_same_umid.loc[tt.index,'Coupon_month_num']=len(tt)\n",
    "            prett=off_train_same_umid[(off_train_same_umid['Merchant_id']==use)&(off_train_same_umid['month']==(month-1))]\n",
    "            if len(prett)!=0:\n",
    "                off_train_same_umid.loc[tt.index,'Coupre_month_usepro']=len(prett[prett['Date']==1])/len(prett)\n",
    "    i=i+1\n",
    "\n",
    "for mid in set(off_train_same_umid[off_train_same_umid['month']==1]['Merchant_id'].values):   #填充一月份的数据\n",
    "    tt=off_train_same_umid[(off_train_same_umid['month']==1)&(off_train_same_umid['Merchant_id']==mid)]\n",
    "    tat=off_train_same_umid[(off_train_same_umid['month']!=1)&(off_train_same_umid['Merchant_id']==mid)]\n",
    "    if len(tat)!=0:\n",
    "        off_train_same_umid.loc[tt.index,'Coupre_month_usepro']=tat['Coupre_month_usepro'].median()\n",
    "\n",
    "combine=[ftest,test]\n",
    "i=5\n",
    "for data in combine:\n",
    "    data['Coupon_month_num']=0 #该优惠券本月发放的数目\n",
    "    data['Coupre_month_usepro']=0#该优惠券上个月使用的概率\n",
    "    val=off_train_same_umid['Merchant_id'].values\n",
    "    for mid in set(data['Merchant_id'].values):\n",
    "        tt=data[data['Merchant_id']==mid]\n",
    "        data.loc[tt.index,'Coupon_month_num']=len(tt)\n",
    "        if mid in val:\n",
    "            tat=off_train_same_umid[(off_train_same_umid['Merchant_id']==mid)&(off_train_same_umid['month']==i)]\n",
    "            if len(tat)!=0:\n",
    "                data.loc[tt.index,'Coupre_month_usepro']=len(tat[tat['Date']==1])/len(tat)\n",
    "    i=6\n",
    "#----------------------------------------------------------------------------------------------------------------------------------------------\n",
    "off_train_same_umid['Coupon_premonth_usepro']=0  #用户上个月使用的概率\n",
    "off_train_same_umid['Coupon_premonth_get']=0  #用户上个月领取的张数\n",
    "i=0\n",
    "j=10\n",
    "length=len(set(off_train_same_umid['User_id'].values))\n",
    "for uid in set(off_train_same_umid['User_id'].values):\n",
    "    rate=int(i*100/length)\n",
    "    if (rate in list(np.arange(10.,120.,10.)))&(rate==j):\n",
    "        print('.'*int(rate/10),rate,'%',end=':')\n",
    "        j=j+10\n",
    "    \n",
    "    for month in np.arange(2,7,1):\n",
    "        tt=off_train_same_umid[(off_train_same_umid['User_id']==uid)&(off_train_same_umid['month']==month)]\n",
    "        tat=off_train_same_umid[(off_train_same_umid['User_id']==uid)&(off_train_same_umid['month']==(month-1))]\n",
    "        if len(tt)!=0:\n",
    "            off_train_same_umid.loc[tt.index,'Coupon_premonth_get']=len(tat)\n",
    "            if len(tat)!=0:\n",
    "                off_train_same_umid.loc[tt.index,'Coupon_premonth_usepro']=len(tat[tat['Date']==1])/len(tat)\n",
    "    i=i+1\n",
    "\n",
    "for uid in set(off_train_same_umid[off_train_same_umid['month']==1]['User_id'].values):   #填充一月份的数据\n",
    "    tt=off_train_same_umid[(off_train_same_umid['month']==1)&(off_train_same_umid['User_id']==uid)]\n",
    "    tat=off_train_same_umid[(off_train_same_umid['month']!=1)&(off_train_same_umid['User_id']==uid)]\n",
    "    if len(tat)!=0:\n",
    "        off_train_same_umid.loc[tt.index,'Coupon_premonth_get']=tat['Coupon_premonth_get'].median()\n",
    "        off_train_same_umid.loc[tt.index,'Coupon_premonth_usepro']=tat['Coupon_premonth_usepro'].median()\n",
    "\n",
    "combine=[ftest,test]\n",
    "i=5\n",
    "for data in combine:\n",
    "    data['Coupon_premonth_usepro']=0  #用户上个月使用的概率\n",
    "    data['Coupon_premonth_get']=0  #用户上个月领取的张数\n",
    "    val=off_train_same_umid['User_id'].values\n",
    "    for uid in set(data['User_id'].values):\n",
    "        tt=data[data['User_id']==uid]\n",
    "        if uid in val:\n",
    "            tat=off_train_same_umid[(off_train_same_umid['User_id']==uid)&(off_train_same_umid['month']==i)]\n",
    "            data.loc[tt.index,'Coupon_premonth_get']=len(tat)\n",
    "            if len(tat)!=0:\n",
    "                data.loc[tt.index,'Coupre_month_usepro']=len(tat[tat['Date']==1])/len(tat)\n",
    "    i=6"
   ]
  },
  {
   "cell_type": "code",
   "execution_count": null,
   "metadata": {
    "collapsed": true
   },
   "outputs": [],
   "source": [
    "off_train_same_umid.to_csv(r'D:\\Data\\TCForNewComer\\new_script\\sameumid\\off_train_same_umid.csv',index=False)\n",
    "test.to_csv(r'D:\\Data\\TCForNewComer\\new_script\\train_test.csv',index=False)\n",
    "ftest.to_csv(r'D:\\Data\\TCForNewComer\\new_script\\train_ftest.csv',index=False)"
   ]
  },
  {
   "cell_type": "code",
   "execution_count": null,
   "metadata": {
    "collapsed": true
   },
   "outputs": [],
   "source": [
    "import pandas as pd\n",
    "import numpy as np\n",
    "import time\n",
    "off_train_same_umid=pd.read_csv(r'D:\\Data\\TCForNewComer\\new_script\\sameumid\\off_train_same_umid.csv')\n",
    "test=pd.read_csv(r'D:\\Data\\TCForNewComer\\new_script\\train_test.csv')\n",
    "ftest=pd.read_csv(r'D:\\Data\\TCForNewComer\\new_script\\train_ftest.csv')\n",
    "# on_train=pd.read_csv(r'D:\\Data\\TCForNewComer\\ccf_online_stage1_train\\ccf_online_stage1_train.csv')\n",
    "# on_train[on_train[on_train['Coupon_id']=='fixed'].index,'Coupon_id']='10'\n",
    "\n",
    "# col=['online_buy','online_cou','low_price','click']\n",
    "# combine=[off_train_same_umid,test,ftest]\n",
    "# for data in combine:\n",
    "#     for i in col:\n",
    "#         data[i]=0\n",
    "\n",
    "# for data in combine:\n",
    "#     for uid in set(data['User_id'].values):\n",
    "        "
   ]
  },
  {
   "cell_type": "code",
   "execution_count": null,
   "metadata": {
    "collapsed": true
   },
   "outputs": [],
   "source": [
    "set(off_train_same_umid['Coupon_premonth_get'].values)"
   ]
  },
  {
   "cell_type": "code",
   "execution_count": null,
   "metadata": {
    "collapsed": true
   },
   "outputs": [],
   "source": []
  },
  {
   "cell_type": "code",
   "execution_count": null,
   "metadata": {
    "collapsed": true
   },
   "outputs": [],
   "source": [
    "import pandas as pd\n",
    "import numpy as np\n",
    "off_train_same_umid=pd.read_csv(r'D:\\Data\\TCForNewComer\\new_script\\sameumid\\off_train_same_umid.csv')\n",
    "test=pd.read_csv(r'D:\\Data\\TCForNewComer\\new_script\\train_test.csv')\n",
    "#正负样本取样\n",
    "def set_same(fir,sec,col):\n",
    "    b=set(fir[col].values)\n",
    "    c=set(sec[col].values)\n",
    "    print(col,': ',len(b))\n",
    "    print(len(c))\n",
    "    print(len(c&b))\n",
    "    return (c&b)\n",
    "posi=off_train_same_umid[off_train_same_umid['Date']==1]\n",
    "negt=off_train_same_umid[off_train_same_umid['Date']==0]\n",
    "# negt=negt.drop_duplicates(subset=['Merchant_id','Coupon_id','Discount_rate','Distance','Date','Date_received','month'])\n",
    "print(len(negt))\n",
    "print(len(posi))\n",
    "negt=negt.drop_duplicates(subset=['User_id','discount_rate'])\n",
    "# negt=negt.drop_duplicates(subset=['Merchant_id','Coupon_id','Distance'])\n",
    "print('len:',len(negt))\n",
    "negt.index=np.arange(0,len(negt),1)\n",
    "index1=[]\n",
    "for uid in set_same(test,negt,'User_id'):\n",
    "    for mid in set_same(test,negt,'Merchant_id'):\n",
    "    index1.extend(negt[negt['User_id']==uid].index)\n",
    "temp1=negt.loc[index1]\n",
    "posi=pd.concat([posi,temp1],axis=0)\n",
    "posi.index=np.arange(0,len(posi),1)\n",
    "print(len(posi))\n",
    "negt.drop(index1,axis=0,inplace=True)\n",
    "negt.index=np.arange(0,len(negt),1)      \n",
    "posi.to_csv(r'D:\\Data\\TCForNewComer\\new_script\\sameumid\\sampling.csv',index=False)"
   ]
  },
  {
   "cell_type": "code",
   "execution_count": null,
   "metadata": {
    "collapsed": true
   },
   "outputs": [],
   "source": [
    "posi=off_train_same_umid[off_train_same_umid['Date']==1]\n",
    "negt=off_train_same_umid[off_train_same_umid['Date']==0]\n",
    "# negt=negt.drop_duplicates(subset=['User_id','Discount_rate','Date'])\n",
    "negt=negt.drop_duplicates(subset=['Merchant_id','Coupon_id','Discount_rate','Distance','Date','Date_received','month'])"
   ]
  },
  {
   "cell_type": "code",
   "execution_count": null,
   "metadata": {
    "collapsed": true
   },
   "outputs": [],
   "source": [
    "len(negt)"
   ]
  },
  {
   "cell_type": "code",
   "execution_count": null,
   "metadata": {
    "collapsed": true
   },
   "outputs": [],
   "source": [
    "len(posi)"
   ]
  },
  {
   "cell_type": "code",
   "execution_count": null,
   "metadata": {
    "collapsed": true
   },
   "outputs": [],
   "source": [
    "negt[negt['User_id']==947]"
   ]
  },
  {
   "cell_type": "code",
   "execution_count": null,
   "metadata": {
    "collapsed": true
   },
   "outputs": [],
   "source": [
    "posi.sort_values(by=['User_id','Date'])"
   ]
  },
  {
   "cell_type": "code",
   "execution_count": null,
   "metadata": {
    "collapsed": true
   },
   "outputs": [],
   "source": []
  }
 ],
 "metadata": {
  "kernelspec": {
   "display_name": "Python 3",
   "language": "python",
   "name": "python3"
  },
  "language_info": {
   "codemirror_mode": {
    "name": "ipython",
    "version": 3
   },
   "file_extension": ".py",
   "mimetype": "text/x-python",
   "name": "python",
   "nbconvert_exporter": "python",
   "pygments_lexer": "ipython3",
   "version": "3.6.3"
  }
 },
 "nbformat": 4,
 "nbformat_minor": 2
}
